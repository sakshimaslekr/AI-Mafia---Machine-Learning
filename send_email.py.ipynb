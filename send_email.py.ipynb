{
 "cells": [
  {
   "cell_type": "code",
   "execution_count": 9,
   "metadata": {},
   "outputs": [
    {
     "name": "stdout",
     "output_type": "stream",
     "text": [
      "········\n"
     ]
    }
   ],
   "source": [
    "import smtplib\n",
    "import getpass\n",
    "from email.mime.text import MIMEText\n",
    "\n",
    "def send_email():\n",
    "    senders_address = 'sakshimaslekar@gmail.com'\n",
    "    password = getpass.getpass()\n",
    "    subject = 'AI Mafia - Machine Learning'\n",
    "    msg = '''\n",
    "        Hello Everyone!\n",
    "        We are pleased to announce that we are going to start a new batch of \n",
    "        AI Mafia, Hope you will join! \n",
    "\n",
    "        Thank You!\n",
    "        Sakshi Maslekar\n",
    "    '''\n",
    "    #server Initialisation\n",
    "    server = smtplib.SMTP('smtp.gmail.com', 587)\n",
    "    server.starttls()\n",
    "    server.login(senders_address, password)\n",
    "    \n",
    "    #draft my message body\n",
    "    msg = MIMEText(msg)\n",
    "    msg['Subject'] = subject\n",
    "    msg['From'] = senders_address\n",
    "    msg['To'] = 'sakshimaslekar@gmail.com'\n",
    "    msg.set_param('importance','high value')\n",
    "    recipients = 'sakshimaslekar@gmail.com'\n",
    "    \n",
    "    server.sendmail(senders_address, recipients, msg.as_string())\n",
    "    \n",
    "send_email()"
   ]
  },
  {
   "cell_type": "code",
   "execution_count": null,
   "metadata": {},
   "outputs": [],
   "source": []
  },
  {
   "cell_type": "code",
   "execution_count": null,
   "metadata": {},
   "outputs": [],
   "source": []
  }
 ],
 "metadata": {
  "kernelspec": {
   "display_name": "Python 3",
   "language": "python",
   "name": "python3"
  },
  "language_info": {
   "codemirror_mode": {
    "name": "ipython",
    "version": 3
   },
   "file_extension": ".py",
   "mimetype": "text/x-python",
   "name": "python",
   "nbconvert_exporter": "python",
   "pygments_lexer": "ipython3",
   "version": "3.7.4"
  }
 },
 "nbformat": 4,
 "nbformat_minor": 2
}
